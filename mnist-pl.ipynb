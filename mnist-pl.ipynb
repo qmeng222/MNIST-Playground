{
 "cells": [
  {
   "attachments": {},
   "cell_type": "markdown",
   "metadata": {},
   "source": [
    "Why PyTorch Lightning?\n",
    "PyTorch Lightning is a lightweight PyTorch wrapper that simplifies the process of training and organizing complex deep learning models. \n",
    "* Pomotes a modular and organized code structure by separating concerns into separate components\n",
    "* Streamlines training process (get rid of a lot of boilerplate)\n",
    "* Reproducibility and scalability\n",
    "* Integrates seamlessly with other popular libraries and tools in the research ecosystem "
   ]
  },
  {
   "attachments": {},
   "cell_type": "markdown",
   "metadata": {},
   "source": [
    "Big picture:\n",
    "* Dataset\n",
    "* Build a model\n",
    "* Define loss_fn & optimizer\n",
    "* Define trainer (model produces prediction -> compute loss (pred vs. label) -> backprop)\n",
    "* Define validation data set (train/validation/test)\n",
    "* Run trainer & test"
   ]
  },
  {
   "cell_type": "code",
   "execution_count": 1,
   "metadata": {},
   "outputs": [],
   "source": [
    "import torch\n",
    "from torch import nn\n",
    "from torch.nn import functional as F\n",
    "from torch import optim\n",
    "from torch.utils.data import DataLoader\n",
    "from torchvision.datasets import MNIST\n",
    "from torchvision.transforms import ToTensor\n",
    "import pytorch_lightning as pl"
   ]
  },
  {
   "cell_type": "code",
   "execution_count": 2,
   "metadata": {},
   "outputs": [
    {
     "name": "stdout",
     "output_type": "stream",
     "text": [
      "Downloading http://yann.lecun.com/exdb/mnist/train-images-idx3-ubyte.gz\n",
      "Downloading http://yann.lecun.com/exdb/mnist/train-images-idx3-ubyte.gz to data-pl/MNIST/raw/train-images-idx3-ubyte.gz\n"
     ]
    },
    {
     "name": "stderr",
     "output_type": "stream",
     "text": [
      "100%|██████████| 9912422/9912422 [00:00<00:00, 21798282.30it/s]\n"
     ]
    },
    {
     "name": "stdout",
     "output_type": "stream",
     "text": [
      "Extracting data-pl/MNIST/raw/train-images-idx3-ubyte.gz to data-pl/MNIST/raw\n",
      "\n",
      "Downloading http://yann.lecun.com/exdb/mnist/train-labels-idx1-ubyte.gz\n",
      "Downloading http://yann.lecun.com/exdb/mnist/train-labels-idx1-ubyte.gz to data-pl/MNIST/raw/train-labels-idx1-ubyte.gz\n"
     ]
    },
    {
     "name": "stderr",
     "output_type": "stream",
     "text": [
      "100%|██████████| 28881/28881 [00:00<00:00, 21650704.88it/s]"
     ]
    },
    {
     "name": "stdout",
     "output_type": "stream",
     "text": [
      "Extracting data-pl/MNIST/raw/train-labels-idx1-ubyte.gz to data-pl/MNIST/raw\n",
      "\n",
      "Downloading http://yann.lecun.com/exdb/mnist/t10k-images-idx3-ubyte.gz\n",
      "Downloading http://yann.lecun.com/exdb/mnist/t10k-images-idx3-ubyte.gz to data-pl/MNIST/raw/t10k-images-idx3-ubyte.gz\n"
     ]
    },
    {
     "name": "stderr",
     "output_type": "stream",
     "text": [
      "\n",
      "100%|██████████| 1648877/1648877 [00:00<00:00, 17311194.37it/s]\n"
     ]
    },
    {
     "name": "stdout",
     "output_type": "stream",
     "text": [
      "Extracting data-pl/MNIST/raw/t10k-images-idx3-ubyte.gz to data-pl/MNIST/raw\n",
      "\n",
      "Downloading http://yann.lecun.com/exdb/mnist/t10k-labels-idx1-ubyte.gz\n",
      "Downloading http://yann.lecun.com/exdb/mnist/t10k-labels-idx1-ubyte.gz to data-pl/MNIST/raw/t10k-labels-idx1-ubyte.gz\n"
     ]
    },
    {
     "name": "stderr",
     "output_type": "stream",
     "text": [
      "100%|██████████| 4542/4542 [00:00<00:00, 4736581.00it/s]\n"
     ]
    },
    {
     "name": "stdout",
     "output_type": "stream",
     "text": [
      "Extracting data-pl/MNIST/raw/t10k-labels-idx1-ubyte.gz to data-pl/MNIST/raw\n",
      "\n"
     ]
    }
   ],
   "source": [
    "# get the train/valid data set:\n",
    "train_ds = MNIST(root=\"data-pl\", train=True, download=True, transform=ToTensor())\n",
    "valid_ds = MNIST(root=\"data-pl\", train=False, download=True, transform=ToTensor())\n",
    "\n",
    "# dataloader (dl):\n",
    "bs = 64\n",
    "train_dl = DataLoader(train_ds, batch_size=bs, shuffle=True)\n",
    "valid_dl = DataLoader(valid_ds, batch_size=bs, shuffle=True)"
   ]
  },
  {
   "cell_type": "code",
   "execution_count": null,
   "metadata": {},
   "outputs": [],
   "source": [
    "# build the model:\n",
    "class MNIST_Model(pl.LightningModule):  # pl.LightningModule is nn.Module with a few extra feature\n",
    "  def __init__(self, lr=0.5):\n",
    "    super().__init__()\n",
    "    self.lr = lr\n",
    "    self.lin = nn.Linear(784, 10)  # 784 (28 * 28)\n",
    "  \n",
    "  # forward: input -> prediction\n",
    "  def forward(self, xb):\n",
    "    \"\"\"\n",
    "    xb = torch.tensor([\n",
    "      [[1, 2, 3, 4],\n",
    "      [5, 6, 7, 8],\n",
    "      [9, 10, 11, 12]],\n",
    "      \n",
    "      [[13, 14, 15, 16],\n",
    "      [17, 18, 19, 20],\n",
    "      [21, 22, 23, 24]]\n",
    "    ])\n",
    "\n",
    "    # flatten the tensor along the second and all other dimensions: \n",
    "    xb = xb.flatten(1, -1)\n",
    "\n",
    "    print(xb)\n",
    "    tensor([\n",
    "      [ 1,  2,  3,  4,  5,  6,  7,  8,  9, 10, 11, 12],\n",
    "      [13, 14, 15, 16, 17, 18, 19, 20, 21, 22, 23, 24]\n",
    "    ])\n",
    "    \"\"\"\n",
    "    xb = xb.flatten(1, -1)\n",
    "    return  self.lin(xb)\n",
    "  \n",
    "  def training_step(self, batch, batch_idx):\n",
    "    xb, yb = batch\n",
    "    pred = model(xb)\n",
    "    loss = F.cross_entropy(pred, yb)\n",
    "    return loss\n",
    "\n",
    "  # optimizer:\n",
    "  def configure_optimizers(self):\n",
    "    return optim.SGD(self.parameters(), lr=self.lr)"
   ]
  },
  {
   "cell_type": "code",
   "execution_count": null,
   "metadata": {},
   "outputs": [],
   "source": [
    "# init a model:\n",
    "mnist_model = MNIST_Model()\n",
    "\n",
    "# init trainer:\n",
    "trainer = pl.Trainer(max_epochs=2)\n",
    "\n",
    "# train the model:\n",
    "trainer.fit(mnist_model, train_dl)"
   ]
  }
 ],
 "metadata": {
  "kernelspec": {
   "display_name": "DL-env",
   "language": "python",
   "name": "python3"
  },
  "language_info": {
   "codemirror_mode": {
    "name": "ipython",
    "version": 3
   },
   "file_extension": ".py",
   "mimetype": "text/x-python",
   "name": "python",
   "nbconvert_exporter": "python",
   "pygments_lexer": "ipython3",
   "version": "3.11.4"
  },
  "orig_nbformat": 4
 },
 "nbformat": 4,
 "nbformat_minor": 2
}
