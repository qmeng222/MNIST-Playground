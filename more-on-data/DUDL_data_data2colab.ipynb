{
  "nbformat": 4,
  "nbformat_minor": 0,
  "metadata": {
    "colab": {
      "provenance": [],
      "include_colab_link": true
    },
    "kernelspec": {
      "name": "python3",
      "display_name": "Python 3"
    }
  },
  "cells": [
    {
      "cell_type": "markdown",
      "metadata": {
        "id": "view-in-github",
        "colab_type": "text"
      },
      "source": [
        "<a href=\"https://colab.research.google.com/github/qmeng222/MNIST-Playground/blob/main/more-on-data/DUDL_data_data2colab.ipynb\" target=\"_parent\"><img src=\"https://colab.research.google.com/assets/colab-badge.svg\" alt=\"Open In Colab\"/></a>"
      ]
    },
    {
      "cell_type": "markdown",
      "metadata": {
        "id": "bhWV8oes-wKR"
      },
      "source": [
        "# COURSE: A deep understanding of deep learning\n",
        "## SECTION: More on data\n",
        "### LECTURE: Getting data into colab\n",
        "#### TEACHER: Mike X Cohen, sincxpress.com\n",
        "##### COURSE URL: udemy.com/course/deeplearning_x/?couponCode=202305"
      ]
    },
    {
      "cell_type": "code",
      "metadata": {
        "id": "YeuAheYyhdZw"
      },
      "source": [],
      "execution_count": null,
      "outputs": []
    },
    {
      "cell_type": "markdown",
      "metadata": {
        "id": "0HOkOefftqyg"
      },
      "source": [
        "# Import from torchvision"
      ]
    },
    {
      "cell_type": "code",
      "metadata": {
        "id": "MU7rvmWuhjud"
      },
      "source": [
        "import torchvision\n",
        "\n",
        "# download the CIFAR10 dataset\n",
        "cdata = torchvision.datasets.CIFAR10(root='cifar10', download=True)\n",
        "\n",
        "print(cdata)"
      ],
      "execution_count": null,
      "outputs": []
    },
    {
      "cell_type": "code",
      "metadata": {
        "id": "VhIKo0_iaGz2"
      },
      "source": [
        "# Datasets that come with torchvision: https://pytorch.org/vision/stable/index.html"
      ],
      "execution_count": null,
      "outputs": []
    },
    {
      "cell_type": "markdown",
      "metadata": {
        "id": "_dR4LoMZx8GN"
      },
      "source": [
        "# Download from the web"
      ]
    },
    {
      "cell_type": "code",
      "metadata": {
        "id": "NhN7RYqYd915"
      },
      "source": [
        "import pandas as pd\n",
        "\n",
        "# url\n",
        "marriage_url = 'https://www.cdc.gov/nchs/data/dvs/state-marriage-rates-90-95-99-19.xlsx'\n",
        "\n",
        "# import directly into pandas\n",
        "data = pd.read_excel(marriage_url,header=5)\n",
        "data"
      ],
      "execution_count": null,
      "outputs": []
    },
    {
      "cell_type": "code",
      "metadata": {
        "id": "hMpyFzF-d95B"
      },
      "source": [],
      "execution_count": null,
      "outputs": []
    },
    {
      "cell_type": "markdown",
      "metadata": {
        "id": "VAqVrcrGd98S"
      },
      "source": [
        "# Upload from hard drive"
      ]
    },
    {
      "cell_type": "code",
      "metadata": {
        "id": "9SnUUHPm7xQE"
      },
      "source": [
        "from google.colab import files\n",
        "uploaded = files.upload()"
      ],
      "execution_count": null,
      "outputs": []
    },
    {
      "cell_type": "code",
      "metadata": {
        "id": "fCooGt9PiNb6"
      },
      "source": [],
      "execution_count": null,
      "outputs": []
    },
    {
      "cell_type": "markdown",
      "metadata": {
        "id": "TVXQlW-svDUE"
      },
      "source": [
        "# Map your google-drive"
      ]
    },
    {
      "cell_type": "code",
      "metadata": {
        "id": "nViqoQuOvbZB"
      },
      "source": [
        "from google.colab import drive\n",
        "drive.mount('/content/gdrive')"
      ],
      "execution_count": null,
      "outputs": []
    },
    {
      "cell_type": "code",
      "metadata": {
        "id": "8aa1MGVC1fMm"
      },
      "source": [],
      "execution_count": null,
      "outputs": []
    }
  ]
}