{
  "nbformat": 4,
  "nbformat_minor": 0,
  "metadata": {
    "colab": {
      "provenance": [],
      "authorship_tag": "ABX9TyOAY6KuGwfSh7xew8r8+qrG",
      "include_colab_link": true
    },
    "kernelspec": {
      "name": "python3",
      "display_name": "Python 3"
    },
    "language_info": {
      "name": "python"
    }
  },
  "cells": [
    {
      "cell_type": "markdown",
      "metadata": {
        "id": "view-in-github",
        "colab_type": "text"
      },
      "source": [
        "<a href=\"https://colab.research.google.com/github/qmeng222/MNIST-Playground/blob/main/weights/freeze_weights_and_biases.ipynb\" target=\"_parent\"><img src=\"https://colab.research.google.com/assets/colab-badge.svg\" alt=\"Open In Colab\"/></a>"
      ]
    },
    {
      "cell_type": "code",
      "execution_count": 32,
      "metadata": {
        "id": "bRXAYPpGhOSw"
      },
      "outputs": [],
      "source": [
        "import numpy as np\n",
        "\n",
        "import torch\n",
        "import torch.nn as nn\n",
        "import torch.nn.functional as F\n",
        "from torch.utils.data import TensorDataset, DataLoader\n",
        "from sklearn.model_selection import train_test_split\n",
        "\n",
        "import time\n",
        "\n",
        "import matplotlib.pyplot as plt\n",
        "import matplotlib_inline as inl\n",
        "inl.backend_inline.set_matplotlib_formats(\"svg\")"
      ]
    },
    {
      "cell_type": "code",
      "source": [
        "# import dataset:\n",
        "data = np.loadtxt(open('sample_data/mnist_train_small.csv','rb'),delimiter=',')\n",
        "\n",
        "# extract labels, then remove labels from data:\n",
        "labels = data[:,0]\n",
        "data   = data[:,1:]\n",
        "\n",
        "# normalize the data to [0 1]:\n",
        "dataNorm = data / np.max(data)"
      ],
      "metadata": {
        "id": "v5bekru4N_Lh"
      },
      "execution_count": 33,
      "outputs": []
    },
    {
      "cell_type": "code",
      "source": [
        "# 1. np array -> torch tensor\n",
        "dataT   = torch.tensor( dataNorm ).float()\n",
        "labelsT = torch.tensor( labels ).long() # long for int\n",
        "\n",
        "# 2. use scikitlearn to split data\n",
        "train_data, test_data, train_labels, test_labels = train_test_split(dataT, labelsT, test_size=.1)\n",
        "print(train_data.shape, train_labels.shape, test_data.shape, test_labels.shape)\n",
        "\n",
        "# 3. torch tensor -> torch dataset obj (combine)\n",
        "train_data = torch.utils.data.TensorDataset(train_data,train_labels)\n",
        "test_data  = torch.utils.data.TensorDataset(test_data,test_labels)\n",
        "\n",
        "# 4. torch dataset obj -> torch dataloader obj (shuffle)\n",
        "batchsize    = 32\n",
        "train_loader = DataLoader(train_data,batch_size=batchsize,shuffle=True,drop_last=True)\n",
        "test_loader  = DataLoader(test_data,batch_size=test_data.tensors[0].shape[0])"
      ],
      "metadata": {
        "colab": {
          "base_uri": "https://localhost:8080/"
        },
        "id": "QpOsGQ3PPhys",
        "outputId": "d081d885-2d6e-4f8b-9256-af881fae72a7"
      },
      "execution_count": 34,
      "outputs": [
        {
          "output_type": "stream",
          "name": "stdout",
          "text": [
            "torch.Size([18000, 784]) torch.Size([18000]) torch.Size([2000, 784]) torch.Size([2000])\n"
          ]
        }
      ]
    },
    {
      "cell_type": "markdown",
      "source": [
        "# Create the model:"
      ],
      "metadata": {
        "id": "DUAX8ikzVDtT"
      }
    },
    {
      "cell_type": "code",
      "source": [
        "def createTheMNISTNet():\n",
        "\n",
        "  # create a class for the model：\n",
        "  class mnistNet(nn.Module):\n",
        "    def __init__(self):\n",
        "      super().__init__()\n",
        "\n",
        "      self.input = nn.Linear(784,64)\n",
        "      self.fc1 = nn.Linear(64,32)\n",
        "      self.fc2 = nn.Linear(32,32)\n",
        "      self.output = nn.Linear(32,10)\n",
        "\n",
        "    # forward pass\n",
        "    def forward(self,x):\n",
        "      x = F.relu( self.input(x) )\n",
        "      x = F.relu( self.fc1(x) )\n",
        "      x = F.relu( self.fc2(x) )\n",
        "      return self.output(x)\n",
        "\n",
        "\n",
        "  # create the model instance:\n",
        "  net = mnistNet()\n",
        "\n",
        "  # loss function:\n",
        "  lossfun = nn.CrossEntropyLoss()\n",
        "\n",
        "  # optimizer (using SGD to slow down learning):\n",
        "  optimizer = torch.optim.SGD(net.parameters(),lr=.001) # NOTE: very small lr\n",
        "\n",
        "  return net,lossfun,optimizer"
      ],
      "metadata": {
        "id": "RuI9KcluRPWF"
      },
      "execution_count": 35,
      "outputs": []
    },
    {
      "cell_type": "code",
      "source": [
        "# inspect and change the \"learning toggle\" of a layer:\n",
        "\n",
        "N = createTheMNISTNet()[0] # return net only\n",
        "print(N.fc1.weight.requires_grad)\n",
        "\n",
        "# switch off all layers except the input layer:\n",
        "for p in N.named_parameters():\n",
        "  print(p, \"\\n\") # tuple\n",
        "  if 'input' not in p[0]:\n",
        "    p[1].requires_grad = False\n",
        "\n",
        "# check:\n",
        "for p in N.named_parameters():\n",
        "  print('Requires_grad status in layer %s: %s' %(p[0],p[1].requires_grad))"
      ],
      "metadata": {
        "colab": {
          "base_uri": "https://localhost:8080/"
        },
        "id": "wYFL9SL4RwYx",
        "outputId": "1deb126b-90ab-4604-e026-2ba926288e55"
      },
      "execution_count": 36,
      "outputs": [
        {
          "output_type": "stream",
          "name": "stdout",
          "text": [
            "True\n",
            "('input.weight', Parameter containing:\n",
            "tensor([[ 0.0118, -0.0059,  0.0316,  ...,  0.0052,  0.0287,  0.0184],\n",
            "        [-0.0251, -0.0141,  0.0077,  ...,  0.0266,  0.0170, -0.0194],\n",
            "        [-0.0181,  0.0098,  0.0303,  ...,  0.0074, -0.0046, -0.0019],\n",
            "        ...,\n",
            "        [-0.0246,  0.0271,  0.0130,  ..., -0.0044, -0.0146,  0.0181],\n",
            "        [-0.0105, -0.0040,  0.0003,  ..., -0.0333, -0.0070,  0.0086],\n",
            "        [ 0.0292,  0.0037,  0.0284,  ..., -0.0146,  0.0250, -0.0037]],\n",
            "       requires_grad=True)) \n",
            "\n",
            "('input.bias', Parameter containing:\n",
            "tensor([-0.0091, -0.0139, -0.0238, -0.0321, -0.0241, -0.0317,  0.0144,  0.0142,\n",
            "         0.0143, -0.0270, -0.0304, -0.0273,  0.0292, -0.0046, -0.0175, -0.0115,\n",
            "         0.0212,  0.0124,  0.0331, -0.0241, -0.0260,  0.0172, -0.0180, -0.0298,\n",
            "         0.0186,  0.0101,  0.0094, -0.0290, -0.0244, -0.0067, -0.0076,  0.0223,\n",
            "         0.0325, -0.0354,  0.0063, -0.0047, -0.0182,  0.0127, -0.0021,  0.0289,\n",
            "         0.0208,  0.0151,  0.0124, -0.0128, -0.0329,  0.0189,  0.0202, -0.0082,\n",
            "        -0.0111,  0.0171, -0.0258, -0.0124,  0.0144,  0.0178, -0.0231,  0.0304,\n",
            "         0.0142,  0.0344,  0.0020,  0.0228, -0.0218,  0.0344, -0.0147,  0.0016],\n",
            "       requires_grad=True)) \n",
            "\n",
            "('fc1.weight', Parameter containing:\n",
            "tensor([[-0.0913, -0.0943, -0.1192,  ..., -0.0402, -0.0274,  0.0090],\n",
            "        [ 0.0016,  0.0637, -0.1171,  ...,  0.0666, -0.0718,  0.0165],\n",
            "        [ 0.0313, -0.1022,  0.0331,  ..., -0.0063,  0.0844,  0.0692],\n",
            "        ...,\n",
            "        [ 0.0258,  0.0308,  0.0236,  ...,  0.0389,  0.0011,  0.0814],\n",
            "        [-0.0796, -0.0771, -0.0691,  ..., -0.0212,  0.0704, -0.0227],\n",
            "        [-0.0811,  0.0647, -0.0528,  ..., -0.0510, -0.0244,  0.1058]],\n",
            "       requires_grad=True)) \n",
            "\n",
            "('fc1.bias', Parameter containing:\n",
            "tensor([ 0.0432,  0.0660,  0.0004, -0.0762, -0.1186,  0.0877,  0.1146,  0.0450,\n",
            "        -0.0590,  0.0019, -0.0609, -0.0078,  0.1220, -0.0150,  0.1194,  0.0843,\n",
            "        -0.0037,  0.1159, -0.0440, -0.0366,  0.0265,  0.0700,  0.0213, -0.0524,\n",
            "        -0.0436, -0.0975, -0.0652,  0.0815,  0.0866,  0.0276, -0.1028, -0.1127],\n",
            "       requires_grad=True)) \n",
            "\n",
            "('fc2.weight', Parameter containing:\n",
            "tensor([[-0.0751,  0.1742, -0.1000,  ...,  0.0791,  0.0733, -0.0832],\n",
            "        [ 0.0935,  0.0516,  0.1656,  ..., -0.0358,  0.1210,  0.0413],\n",
            "        [-0.0013, -0.0154,  0.1566,  ...,  0.0310, -0.1370,  0.1725],\n",
            "        ...,\n",
            "        [-0.1139,  0.1088, -0.0640,  ..., -0.0903, -0.1658, -0.0113],\n",
            "        [ 0.1637, -0.0170,  0.1411,  ..., -0.0315,  0.1152,  0.0258],\n",
            "        [ 0.0896, -0.1242,  0.1539,  ..., -0.1501,  0.1457,  0.0030]],\n",
            "       requires_grad=True)) \n",
            "\n",
            "('fc2.bias', Parameter containing:\n",
            "tensor([ 0.0017,  0.1252,  0.1054,  0.1720,  0.0549, -0.1734, -0.1414, -0.1478,\n",
            "         0.0274,  0.0008,  0.1119, -0.0389,  0.0823,  0.1136,  0.0113,  0.0146,\n",
            "        -0.1600, -0.1749,  0.1425, -0.1678,  0.0518,  0.1286,  0.1126,  0.1672,\n",
            "         0.0549,  0.0973, -0.1400, -0.1204, -0.0376,  0.0742, -0.0260,  0.0304],\n",
            "       requires_grad=True)) \n",
            "\n",
            "('output.weight', Parameter containing:\n",
            "tensor([[-0.1039,  0.0647,  0.1159, -0.1072,  0.0018,  0.1562, -0.0325, -0.1138,\n",
            "          0.1679,  0.0870, -0.0544,  0.1021,  0.0377,  0.1211,  0.0269,  0.0007,\n",
            "         -0.1319,  0.1582, -0.1408, -0.1052,  0.0734, -0.0473, -0.0796,  0.1331,\n",
            "          0.1186,  0.0272,  0.0367,  0.0082,  0.1326,  0.0467,  0.1275,  0.0287],\n",
            "        [ 0.1087, -0.1247, -0.0665, -0.0474, -0.1515, -0.0133,  0.0172, -0.0114,\n",
            "          0.0021, -0.0765, -0.1747,  0.1047,  0.1443,  0.1309,  0.1363,  0.0262,\n",
            "         -0.0771, -0.0863,  0.0287,  0.0948,  0.0946,  0.1746, -0.1247,  0.0013,\n",
            "          0.1666, -0.1115,  0.0659,  0.1108,  0.0674,  0.0870,  0.0926, -0.0587],\n",
            "        [-0.1050,  0.1109, -0.1312, -0.1750, -0.1069,  0.0470,  0.1447, -0.0884,\n",
            "          0.1485,  0.0097, -0.0339, -0.0188, -0.1496, -0.0958,  0.1447,  0.1213,\n",
            "          0.1345,  0.0719, -0.1200,  0.0172,  0.0036,  0.1017,  0.0089, -0.0427,\n",
            "          0.1117,  0.0614,  0.0524,  0.0015,  0.0902, -0.1684,  0.0866, -0.0535],\n",
            "        [ 0.0005, -0.0212, -0.1488,  0.0406, -0.0843,  0.0413,  0.0602, -0.0433,\n",
            "          0.0784, -0.0897,  0.0302, -0.0179,  0.0503,  0.0477, -0.0178, -0.1376,\n",
            "          0.1386,  0.0709, -0.1620, -0.0127, -0.0162, -0.0090, -0.0160,  0.0717,\n",
            "         -0.0330,  0.0983, -0.0530,  0.1081,  0.0859,  0.0657, -0.1221,  0.1563],\n",
            "        [-0.1094,  0.0736, -0.0938, -0.0660, -0.1295, -0.1447, -0.0552, -0.0504,\n",
            "          0.1101,  0.0203, -0.1267,  0.1480,  0.0842,  0.0207,  0.0594, -0.0962,\n",
            "         -0.0288, -0.0402,  0.0643, -0.1088,  0.1391,  0.0022,  0.1656, -0.1628,\n",
            "          0.1022, -0.1282, -0.0286,  0.1105,  0.1294, -0.0249,  0.0943,  0.1097],\n",
            "        [ 0.1183,  0.1346,  0.1068, -0.0015, -0.0315, -0.0072,  0.1370, -0.0111,\n",
            "          0.0865, -0.0035, -0.1648, -0.0899,  0.1339, -0.1386,  0.0902,  0.1097,\n",
            "         -0.1764, -0.1356, -0.0616,  0.0880, -0.0883, -0.0815,  0.0928, -0.1185,\n",
            "         -0.0780, -0.0884,  0.1376, -0.1000,  0.0533, -0.1094, -0.0851,  0.0501],\n",
            "        [ 0.0831,  0.0596, -0.0034, -0.1709,  0.0248,  0.0578,  0.0542,  0.1404,\n",
            "         -0.1136, -0.0181,  0.0899, -0.1082, -0.0123,  0.1515,  0.1739, -0.0055,\n",
            "         -0.1166,  0.1490, -0.1535, -0.0968,  0.1489,  0.0552,  0.0786,  0.1431,\n",
            "          0.0105,  0.0173, -0.1134,  0.0833,  0.0259,  0.1352,  0.1716,  0.0181],\n",
            "        [-0.1369, -0.1669, -0.0024,  0.0515, -0.1517,  0.1252,  0.0810, -0.0694,\n",
            "          0.1194, -0.1060, -0.0786, -0.0738,  0.0620, -0.1023,  0.0256,  0.0531,\n",
            "          0.1512,  0.0705,  0.0116, -0.1464,  0.0769,  0.1046,  0.0297,  0.1400,\n",
            "         -0.0771,  0.1453,  0.1149, -0.1741, -0.0714, -0.0309, -0.0820,  0.1446],\n",
            "        [ 0.1425, -0.0447,  0.0215, -0.1268,  0.0881,  0.1540,  0.0774, -0.0847,\n",
            "          0.0900, -0.1328, -0.1694,  0.1135, -0.0233,  0.1334,  0.1744, -0.0374,\n",
            "         -0.1590,  0.1024,  0.0061,  0.1048,  0.0087,  0.1685, -0.0210,  0.0303,\n",
            "         -0.1151,  0.0291,  0.0895, -0.0469, -0.1392, -0.1743, -0.1560, -0.0127],\n",
            "        [-0.0514, -0.0368,  0.1295, -0.0299,  0.0523,  0.1551,  0.0316, -0.1630,\n",
            "          0.0974, -0.1201, -0.0886, -0.0809, -0.0896, -0.1177, -0.0345, -0.1192,\n",
            "         -0.1592,  0.1467,  0.0400,  0.0164, -0.0852,  0.1450, -0.0656, -0.1671,\n",
            "          0.1091,  0.0004, -0.0561, -0.0172,  0.0906, -0.1089,  0.1157,  0.0940]],\n",
            "       requires_grad=True)) \n",
            "\n",
            "('output.bias', Parameter containing:\n",
            "tensor([ 0.0405,  0.1700,  0.1372, -0.0838, -0.0565,  0.1603, -0.1364,  0.0132,\n",
            "         0.1397,  0.1596], requires_grad=True)) \n",
            "\n",
            "Requires_grad status in layer input.weight: True\n",
            "Requires_grad status in layer input.bias: True\n",
            "Requires_grad status in layer fc1.weight: False\n",
            "Requires_grad status in layer fc1.bias: False\n",
            "Requires_grad status in layer fc2.weight: False\n",
            "Requires_grad status in layer fc2.bias: False\n",
            "Requires_grad status in layer output.weight: False\n",
            "Requires_grad status in layer output.bias: False\n"
          ]
        }
      ]
    },
    {
      "cell_type": "markdown",
      "source": [
        "👆The backpropagation will change weight and bias in the input layer only! This is definitely not good for learning."
      ],
      "metadata": {
        "id": "Kjl7sjFKXBdi"
      }
    },
    {
      "cell_type": "markdown",
      "source": [
        "# Create a function to train the model:"
      ],
      "metadata": {
        "id": "k8_Mt_BLVTC1"
      }
    },
    {
      "cell_type": "code",
      "source": [
        "def function2trainTheModel(net,lossfun,optimizer):\n",
        "\n",
        "  numepochs = 100\n",
        "\n",
        "  # initialize losses\n",
        "  losses    = torch.zeros(numepochs)\n",
        "  trainAcc  = []\n",
        "  testAcc   = []\n",
        "\n",
        "  # loop over epochs\n",
        "  for epochi in range(numepochs):\n",
        "    if epochi<(numepochs/2):           # 1st half of epochs\n",
        "      for p in net.named_parameters():\n",
        "        if 'output' not in p[0]:       # all layers except output layer\n",
        "          p[1].requires_grad = False   # freeze\n",
        "    else:\n",
        "      for p in net.named_parameters():\n",
        "        p[1].requires_grad = True\n",
        "\n",
        "    # loop over training batches\n",
        "    net.train()\n",
        "    batchAcc  = []\n",
        "    batchLoss = []\n",
        "    for X,y in train_loader:\n",
        "\n",
        "      # forward pass and loss\n",
        "      yHat = net(X)\n",
        "      loss = lossfun(yHat,y)\n",
        "\n",
        "      # backprop\n",
        "      optimizer.zero_grad()\n",
        "      loss.backward()\n",
        "      optimizer.step()\n",
        "\n",
        "      # record\n",
        "      batchLoss.append(loss.item())\n",
        "      matches = torch.argmax(yHat,axis=1) == y     # booleans (false/true)\n",
        "      matchesNumeric = matches.float()             # convert to numbers (0/1)\n",
        "      accuracyPct = 100*torch.mean(matchesNumeric) # average and x100\n",
        "      batchAcc.append( accuracyPct )               # add to list of accuracies\n",
        "    # end of batch loop...\n",
        "\n",
        "    # now that we've trained through the batches, get their average training accuracy\n",
        "    trainAcc.append( np.mean(batchAcc) )\n",
        "\n",
        "    # and get average losses across the batches\n",
        "    losses[epochi] = np.mean(batchLoss)\n",
        "\n",
        "    # test accuracy\n",
        "    net.eval()\n",
        "    X,y = next(iter(test_loader)) # extract X,y from test dataloader\n",
        "    with torch.no_grad(): # deactivates autograd\n",
        "      yHat = net(X)\n",
        "    testAcc.append( 100*torch.mean((torch.argmax(yHat,axis=1)==y).float()) )\n",
        "  # end epochs\n",
        "\n",
        "  # function output\n",
        "  return trainAcc,testAcc,losses,net"
      ],
      "metadata": {
        "id": "K70gc_gYVW9E"
      },
      "execution_count": 37,
      "outputs": []
    },
    {
      "cell_type": "markdown",
      "source": [
        "# Let's see it in action!"
      ],
      "metadata": {
        "id": "Li9vnVeebcKP"
      }
    },
    {
      "cell_type": "code",
      "source": [
        "# create the network\n",
        "net,lossfun,optimizer = createTheMNISTNet()\n",
        "\n",
        "# train the model\n",
        "trainAcc,testAcc,losses,net = function2trainTheModel(net,lossfun,optimizer)\n",
        "\n",
        "plt.plot(trainAcc,label='Train')\n",
        "plt.plot(testAcc,label='Test')\n",
        "plt.plot([len(trainAcc)/2, len(trainAcc)/2],[10,80],'k--',label='Learning switched on')\n",
        "plt.legend()\n",
        "plt.show()"
      ],
      "metadata": {
        "colab": {
          "base_uri": "https://localhost:8080/",
          "height": 417
        },
        "id": "-AtAHrTobaRG",
        "outputId": "5c1397aa-f27b-46b1-9b7e-f2a936cb2fa7"
      },
      "execution_count": 38,
      "outputs": [
        {
          "output_type": "display_data",
          "data": {
            "text/plain": [
              "<Figure size 640x480 with 1 Axes>"
            ],
            "image/svg+xml": "<?xml version=\"1.0\" encoding=\"utf-8\" standalone=\"no\"?>\n<!DOCTYPE svg PUBLIC \"-//W3C//DTD SVG 1.1//EN\"\n  \"http://www.w3.org/Graphics/SVG/1.1/DTD/svg11.dtd\">\n<svg xmlns:xlink=\"http://www.w3.org/1999/xlink\" width=\"391.245pt\" height=\"297.190125pt\" viewBox=\"0 0 391.245 297.190125\" xmlns=\"http://www.w3.org/2000/svg\" version=\"1.1\">\n <metadata>\n  <rdf:RDF xmlns:dc=\"http://purl.org/dc/elements/1.1/\" xmlns:cc=\"http://creativecommons.org/ns#\" xmlns:rdf=\"http://www.w3.org/1999/02/22-rdf-syntax-ns#\">\n   <cc:Work>\n    <dc:type rdf:resource=\"http://purl.org/dc/dcmitype/StillImage\"/>\n    <dc:date>2023-09-14T02:05:17.048389</dc:date>\n    <dc:format>image/svg+xml</dc:format>\n    <dc:creator>\n     <cc:Agent>\n      <dc:title>Matplotlib v3.7.1, https://matplotlib.org/</dc:title>\n     </cc:Agent>\n    </dc:creator>\n   </cc:Work>\n  </rdf:RDF>\n </metadata>\n <defs>\n  <style type=\"text/css\">*{stroke-linejoin: round; stroke-linecap: butt}</style>\n </defs>\n <g id=\"figure_1\">\n  <g id=\"patch_1\">\n   <path d=\"M 0 297.190125 \nL 391.245 297.190125 \nL 391.245 0 \nL 0 0 \nz\n\" style=\"fill: #ffffff\"/>\n  </g>\n  <g id=\"axes_1\">\n   <g id=\"patch_2\">\n    <path d=\"M 26.925 273.312 \nL 384.045 273.312 \nL 384.045 7.2 \nL 26.925 7.2 \nz\n\" style=\"fill: #ffffff\"/>\n   </g>\n   <g id=\"matplotlib.axis_1\">\n    <g id=\"xtick_1\">\n     <g id=\"line2d_1\">\n      <defs>\n       <path id=\"md0da463a9b\" d=\"M 0 0 \nL 0 3.5 \n\" style=\"stroke: #000000; stroke-width: 0.8\"/>\n      </defs>\n      <g>\n       <use xlink:href=\"#md0da463a9b\" x=\"43.157727\" y=\"273.312\" style=\"stroke: #000000; stroke-width: 0.8\"/>\n      </g>\n     </g>\n     <g id=\"text_1\">\n      <!-- 0 -->\n      <g transform=\"translate(39.976477 287.910437) scale(0.1 -0.1)\">\n       <defs>\n        <path id=\"DejaVuSans-30\" d=\"M 2034 4250 \nQ 1547 4250 1301 3770 \nQ 1056 3291 1056 2328 \nQ 1056 1369 1301 889 \nQ 1547 409 2034 409 \nQ 2525 409 2770 889 \nQ 3016 1369 3016 2328 \nQ 3016 3291 2770 3770 \nQ 2525 4250 2034 4250 \nz\nM 2034 4750 \nQ 2819 4750 3233 4129 \nQ 3647 3509 3647 2328 \nQ 3647 1150 3233 529 \nQ 2819 -91 2034 -91 \nQ 1250 -91 836 529 \nQ 422 1150 422 2328 \nQ 422 3509 836 4129 \nQ 1250 4750 2034 4750 \nz\n\" transform=\"scale(0.015625)\"/>\n       </defs>\n       <use xlink:href=\"#DejaVuSans-30\"/>\n      </g>\n     </g>\n    </g>\n    <g id=\"xtick_2\">\n     <g id=\"line2d_2\">\n      <g>\n       <use xlink:href=\"#md0da463a9b\" x=\"108.744504\" y=\"273.312\" style=\"stroke: #000000; stroke-width: 0.8\"/>\n      </g>\n     </g>\n     <g id=\"text_2\">\n      <!-- 20 -->\n      <g transform=\"translate(102.382004 287.910437) scale(0.1 -0.1)\">\n       <defs>\n        <path id=\"DejaVuSans-32\" d=\"M 1228 531 \nL 3431 531 \nL 3431 0 \nL 469 0 \nL 469 531 \nQ 828 903 1448 1529 \nQ 2069 2156 2228 2338 \nQ 2531 2678 2651 2914 \nQ 2772 3150 2772 3378 \nQ 2772 3750 2511 3984 \nQ 2250 4219 1831 4219 \nQ 1534 4219 1204 4116 \nQ 875 4013 500 3803 \nL 500 4441 \nQ 881 4594 1212 4672 \nQ 1544 4750 1819 4750 \nQ 2544 4750 2975 4387 \nQ 3406 4025 3406 3419 \nQ 3406 3131 3298 2873 \nQ 3191 2616 2906 2266 \nQ 2828 2175 2409 1742 \nQ 1991 1309 1228 531 \nz\n\" transform=\"scale(0.015625)\"/>\n       </defs>\n       <use xlink:href=\"#DejaVuSans-32\"/>\n       <use xlink:href=\"#DejaVuSans-30\" x=\"63.623047\"/>\n      </g>\n     </g>\n    </g>\n    <g id=\"xtick_3\">\n     <g id=\"line2d_3\">\n      <g>\n       <use xlink:href=\"#md0da463a9b\" x=\"174.331281\" y=\"273.312\" style=\"stroke: #000000; stroke-width: 0.8\"/>\n      </g>\n     </g>\n     <g id=\"text_3\">\n      <!-- 40 -->\n      <g transform=\"translate(167.968781 287.910437) scale(0.1 -0.1)\">\n       <defs>\n        <path id=\"DejaVuSans-34\" d=\"M 2419 4116 \nL 825 1625 \nL 2419 1625 \nL 2419 4116 \nz\nM 2253 4666 \nL 3047 4666 \nL 3047 1625 \nL 3713 1625 \nL 3713 1100 \nL 3047 1100 \nL 3047 0 \nL 2419 0 \nL 2419 1100 \nL 313 1100 \nL 313 1709 \nL 2253 4666 \nz\n\" transform=\"scale(0.015625)\"/>\n       </defs>\n       <use xlink:href=\"#DejaVuSans-34\"/>\n       <use xlink:href=\"#DejaVuSans-30\" x=\"63.623047\"/>\n      </g>\n     </g>\n    </g>\n    <g id=\"xtick_4\">\n     <g id=\"line2d_4\">\n      <g>\n       <use xlink:href=\"#md0da463a9b\" x=\"239.918058\" y=\"273.312\" style=\"stroke: #000000; stroke-width: 0.8\"/>\n      </g>\n     </g>\n     <g id=\"text_4\">\n      <!-- 60 -->\n      <g transform=\"translate(233.555558 287.910437) scale(0.1 -0.1)\">\n       <defs>\n        <path id=\"DejaVuSans-36\" d=\"M 2113 2584 \nQ 1688 2584 1439 2293 \nQ 1191 2003 1191 1497 \nQ 1191 994 1439 701 \nQ 1688 409 2113 409 \nQ 2538 409 2786 701 \nQ 3034 994 3034 1497 \nQ 3034 2003 2786 2293 \nQ 2538 2584 2113 2584 \nz\nM 3366 4563 \nL 3366 3988 \nQ 3128 4100 2886 4159 \nQ 2644 4219 2406 4219 \nQ 1781 4219 1451 3797 \nQ 1122 3375 1075 2522 \nQ 1259 2794 1537 2939 \nQ 1816 3084 2150 3084 \nQ 2853 3084 3261 2657 \nQ 3669 2231 3669 1497 \nQ 3669 778 3244 343 \nQ 2819 -91 2113 -91 \nQ 1303 -91 875 529 \nQ 447 1150 447 2328 \nQ 447 3434 972 4092 \nQ 1497 4750 2381 4750 \nQ 2619 4750 2861 4703 \nQ 3103 4656 3366 4563 \nz\n\" transform=\"scale(0.015625)\"/>\n       </defs>\n       <use xlink:href=\"#DejaVuSans-36\"/>\n       <use xlink:href=\"#DejaVuSans-30\" x=\"63.623047\"/>\n      </g>\n     </g>\n    </g>\n    <g id=\"xtick_5\">\n     <g id=\"line2d_5\">\n      <g>\n       <use xlink:href=\"#md0da463a9b\" x=\"305.504835\" y=\"273.312\" style=\"stroke: #000000; stroke-width: 0.8\"/>\n      </g>\n     </g>\n     <g id=\"text_5\">\n      <!-- 80 -->\n      <g transform=\"translate(299.142335 287.910437) scale(0.1 -0.1)\">\n       <defs>\n        <path id=\"DejaVuSans-38\" d=\"M 2034 2216 \nQ 1584 2216 1326 1975 \nQ 1069 1734 1069 1313 \nQ 1069 891 1326 650 \nQ 1584 409 2034 409 \nQ 2484 409 2743 651 \nQ 3003 894 3003 1313 \nQ 3003 1734 2745 1975 \nQ 2488 2216 2034 2216 \nz\nM 1403 2484 \nQ 997 2584 770 2862 \nQ 544 3141 544 3541 \nQ 544 4100 942 4425 \nQ 1341 4750 2034 4750 \nQ 2731 4750 3128 4425 \nQ 3525 4100 3525 3541 \nQ 3525 3141 3298 2862 \nQ 3072 2584 2669 2484 \nQ 3125 2378 3379 2068 \nQ 3634 1759 3634 1313 \nQ 3634 634 3220 271 \nQ 2806 -91 2034 -91 \nQ 1263 -91 848 271 \nQ 434 634 434 1313 \nQ 434 1759 690 2068 \nQ 947 2378 1403 2484 \nz\nM 1172 3481 \nQ 1172 3119 1398 2916 \nQ 1625 2713 2034 2713 \nQ 2441 2713 2670 2916 \nQ 2900 3119 2900 3481 \nQ 2900 3844 2670 4047 \nQ 2441 4250 2034 4250 \nQ 1625 4250 1398 4047 \nQ 1172 3844 1172 3481 \nz\n\" transform=\"scale(0.015625)\"/>\n       </defs>\n       <use xlink:href=\"#DejaVuSans-38\"/>\n       <use xlink:href=\"#DejaVuSans-30\" x=\"63.623047\"/>\n      </g>\n     </g>\n    </g>\n    <g id=\"xtick_6\">\n     <g id=\"line2d_6\">\n      <g>\n       <use xlink:href=\"#md0da463a9b\" x=\"371.091612\" y=\"273.312\" style=\"stroke: #000000; stroke-width: 0.8\"/>\n      </g>\n     </g>\n     <g id=\"text_6\">\n      <!-- 100 -->\n      <g transform=\"translate(361.547862 287.910437) scale(0.1 -0.1)\">\n       <defs>\n        <path id=\"DejaVuSans-31\" d=\"M 794 531 \nL 1825 531 \nL 1825 4091 \nL 703 3866 \nL 703 4441 \nL 1819 4666 \nL 2450 4666 \nL 2450 531 \nL 3481 531 \nL 3481 0 \nL 794 0 \nL 794 531 \nz\n\" transform=\"scale(0.015625)\"/>\n       </defs>\n       <use xlink:href=\"#DejaVuSans-31\"/>\n       <use xlink:href=\"#DejaVuSans-30\" x=\"63.623047\"/>\n       <use xlink:href=\"#DejaVuSans-30\" x=\"127.246094\"/>\n      </g>\n     </g>\n    </g>\n   </g>\n   <g id=\"matplotlib.axis_2\">\n    <g id=\"ytick_1\">\n     <g id=\"line2d_7\">\n      <defs>\n       <path id=\"m781bc637af\" d=\"M 0 0 \nL -3.5 0 \n\" style=\"stroke: #000000; stroke-width: 0.8\"/>\n      </defs>\n      <g>\n       <use xlink:href=\"#m781bc637af\" x=\"26.925\" y=\"258.545026\" style=\"stroke: #000000; stroke-width: 0.8\"/>\n      </g>\n     </g>\n     <g id=\"text_7\">\n      <!-- 10 -->\n      <g transform=\"translate(7.2 262.344245) scale(0.1 -0.1)\">\n       <use xlink:href=\"#DejaVuSans-31\"/>\n       <use xlink:href=\"#DejaVuSans-30\" x=\"63.623047\"/>\n      </g>\n     </g>\n    </g>\n    <g id=\"ytick_2\">\n     <g id=\"line2d_8\">\n      <g>\n       <use xlink:href=\"#m781bc637af\" x=\"26.925\" y=\"227.121817\" style=\"stroke: #000000; stroke-width: 0.8\"/>\n      </g>\n     </g>\n     <g id=\"text_8\">\n      <!-- 20 -->\n      <g transform=\"translate(7.2 230.921035) scale(0.1 -0.1)\">\n       <use xlink:href=\"#DejaVuSans-32\"/>\n       <use xlink:href=\"#DejaVuSans-30\" x=\"63.623047\"/>\n      </g>\n     </g>\n    </g>\n    <g id=\"ytick_3\">\n     <g id=\"line2d_9\">\n      <g>\n       <use xlink:href=\"#m781bc637af\" x=\"26.925\" y=\"195.698607\" style=\"stroke: #000000; stroke-width: 0.8\"/>\n      </g>\n     </g>\n     <g id=\"text_9\">\n      <!-- 30 -->\n      <g transform=\"translate(7.2 199.497826) scale(0.1 -0.1)\">\n       <defs>\n        <path id=\"DejaVuSans-33\" d=\"M 2597 2516 \nQ 3050 2419 3304 2112 \nQ 3559 1806 3559 1356 \nQ 3559 666 3084 287 \nQ 2609 -91 1734 -91 \nQ 1441 -91 1130 -33 \nQ 819 25 488 141 \nL 488 750 \nQ 750 597 1062 519 \nQ 1375 441 1716 441 \nQ 2309 441 2620 675 \nQ 2931 909 2931 1356 \nQ 2931 1769 2642 2001 \nQ 2353 2234 1838 2234 \nL 1294 2234 \nL 1294 2753 \nL 1863 2753 \nQ 2328 2753 2575 2939 \nQ 2822 3125 2822 3475 \nQ 2822 3834 2567 4026 \nQ 2313 4219 1838 4219 \nQ 1578 4219 1281 4162 \nQ 984 4106 628 3988 \nL 628 4550 \nQ 988 4650 1302 4700 \nQ 1616 4750 1894 4750 \nQ 2613 4750 3031 4423 \nQ 3450 4097 3450 3541 \nQ 3450 3153 3228 2886 \nQ 3006 2619 2597 2516 \nz\n\" transform=\"scale(0.015625)\"/>\n       </defs>\n       <use xlink:href=\"#DejaVuSans-33\"/>\n       <use xlink:href=\"#DejaVuSans-30\" x=\"63.623047\"/>\n      </g>\n     </g>\n    </g>\n    <g id=\"ytick_4\">\n     <g id=\"line2d_10\">\n      <g>\n       <use xlink:href=\"#m781bc637af\" x=\"26.925\" y=\"164.275398\" style=\"stroke: #000000; stroke-width: 0.8\"/>\n      </g>\n     </g>\n     <g id=\"text_10\">\n      <!-- 40 -->\n      <g transform=\"translate(7.2 168.074617) scale(0.1 -0.1)\">\n       <use xlink:href=\"#DejaVuSans-34\"/>\n       <use xlink:href=\"#DejaVuSans-30\" x=\"63.623047\"/>\n      </g>\n     </g>\n    </g>\n    <g id=\"ytick_5\">\n     <g id=\"line2d_11\">\n      <g>\n       <use xlink:href=\"#m781bc637af\" x=\"26.925\" y=\"132.852189\" style=\"stroke: #000000; stroke-width: 0.8\"/>\n      </g>\n     </g>\n     <g id=\"text_11\">\n      <!-- 50 -->\n      <g transform=\"translate(7.2 136.651407) scale(0.1 -0.1)\">\n       <defs>\n        <path id=\"DejaVuSans-35\" d=\"M 691 4666 \nL 3169 4666 \nL 3169 4134 \nL 1269 4134 \nL 1269 2991 \nQ 1406 3038 1543 3061 \nQ 1681 3084 1819 3084 \nQ 2600 3084 3056 2656 \nQ 3513 2228 3513 1497 \nQ 3513 744 3044 326 \nQ 2575 -91 1722 -91 \nQ 1428 -91 1123 -41 \nQ 819 9 494 109 \nL 494 744 \nQ 775 591 1075 516 \nQ 1375 441 1709 441 \nQ 2250 441 2565 725 \nQ 2881 1009 2881 1497 \nQ 2881 1984 2565 2268 \nQ 2250 2553 1709 2553 \nQ 1456 2553 1204 2497 \nQ 953 2441 691 2322 \nL 691 4666 \nz\n\" transform=\"scale(0.015625)\"/>\n       </defs>\n       <use xlink:href=\"#DejaVuSans-35\"/>\n       <use xlink:href=\"#DejaVuSans-30\" x=\"63.623047\"/>\n      </g>\n     </g>\n    </g>\n    <g id=\"ytick_6\">\n     <g id=\"line2d_12\">\n      <g>\n       <use xlink:href=\"#m781bc637af\" x=\"26.925\" y=\"101.428979\" style=\"stroke: #000000; stroke-width: 0.8\"/>\n      </g>\n     </g>\n     <g id=\"text_12\">\n      <!-- 60 -->\n      <g transform=\"translate(7.2 105.228198) scale(0.1 -0.1)\">\n       <use xlink:href=\"#DejaVuSans-36\"/>\n       <use xlink:href=\"#DejaVuSans-30\" x=\"63.623047\"/>\n      </g>\n     </g>\n    </g>\n    <g id=\"ytick_7\">\n     <g id=\"line2d_13\">\n      <g>\n       <use xlink:href=\"#m781bc637af\" x=\"26.925\" y=\"70.00577\" style=\"stroke: #000000; stroke-width: 0.8\"/>\n      </g>\n     </g>\n     <g id=\"text_13\">\n      <!-- 70 -->\n      <g transform=\"translate(7.2 73.804989) scale(0.1 -0.1)\">\n       <defs>\n        <path id=\"DejaVuSans-37\" d=\"M 525 4666 \nL 3525 4666 \nL 3525 4397 \nL 1831 0 \nL 1172 0 \nL 2766 4134 \nL 525 4134 \nL 525 4666 \nz\n\" transform=\"scale(0.015625)\"/>\n       </defs>\n       <use xlink:href=\"#DejaVuSans-37\"/>\n       <use xlink:href=\"#DejaVuSans-30\" x=\"63.623047\"/>\n      </g>\n     </g>\n    </g>\n    <g id=\"ytick_8\">\n     <g id=\"line2d_14\">\n      <g>\n       <use xlink:href=\"#m781bc637af\" x=\"26.925\" y=\"38.582561\" style=\"stroke: #000000; stroke-width: 0.8\"/>\n      </g>\n     </g>\n     <g id=\"text_14\">\n      <!-- 80 -->\n      <g transform=\"translate(7.2 42.381779) scale(0.1 -0.1)\">\n       <use xlink:href=\"#DejaVuSans-38\"/>\n       <use xlink:href=\"#DejaVuSans-30\" x=\"63.623047\"/>\n      </g>\n     </g>\n    </g>\n   </g>\n   <g id=\"line2d_15\">\n    <path d=\"M 43.157727 258.254976 \nL 46.437066 258.254976 \nL 49.716405 258.359815 \nL 52.995744 258.412231 \nL 56.275083 258.621908 \nL 59.554421 258.901472 \nL 62.83376 259.0762 \nL 66.113099 259.285877 \nL 69.392438 259.478076 \nL 72.671777 259.565441 \nL 75.951116 259.478076 \nL 79.230455 259.810062 \nL 82.509793 260.369193 \nL 85.789132 261.172946 \nL 89.068471 258.027829 \nL 92.34781 255.459317 \nL 95.627149 253.397519 \nL 98.906488 252.296729 \nL 102.185826 253.449938 \nL 105.465165 254.148853 \nL 108.744504 254.550729 \nL 112.023843 254.550729 \nL 115.303182 254.603148 \nL 118.582521 254.603148 \nL 121.86186 254.673038 \nL 125.141198 254.603148 \nL 128.420537 254.620619 \nL 131.699876 254.620619 \nL 134.979215 254.603148 \nL 138.258554 254.620619 \nL 141.537893 254.585674 \nL 144.817231 254.603148 \nL 148.09657 254.603148 \nL 151.375909 254.620619 \nL 154.655248 254.585674 \nL 157.934587 254.603148 \nL 161.213926 254.620619 \nL 164.493264 254.603148 \nL 167.772603 254.603148 \nL 171.051942 254.603148 \nL 174.331281 254.603148 \nL 177.61062 254.638093 \nL 180.889959 254.585674 \nL 184.169298 254.673038 \nL 187.448636 254.603148 \nL 190.727975 254.655564 \nL 194.007314 254.603148 \nL 197.286653 254.585674 \nL 200.565992 254.638093 \nL 203.845331 254.655564 \nL 207.124669 254.603148 \nL 210.404008 254.620619 \nL 213.683347 254.585674 \nL 216.962686 254.253688 \nL 220.242025 252.751021 \nL 223.521364 247.491688 \nL 226.800702 234.823856 \nL 230.080041 219.150693 \nL 233.35938 208.265098 \nL 236.638719 198.165778 \nL 239.918058 188.730431 \nL 243.197397 179.155296 \nL 246.476736 172.760218 \nL 249.756074 166.871867 \nL 253.035413 159.166333 \nL 256.314752 150.377475 \nL 259.594091 137.412608 \nL 262.87343 122.316044 \nL 266.152769 110.050092 \nL 269.432107 97.207528 \nL 272.711446 87.195588 \nL 275.990785 78.231995 \nL 279.270124 71.10306 \nL 282.549463 66.000984 \nL 285.828802 61.353215 \nL 289.10814 58.382812 \nL 292.387479 54.206804 \nL 295.666818 51.446077 \nL 298.946157 49.646373 \nL 302.225496 46.88567 \nL 305.504835 44.491889 \nL 308.784174 42.37767 \nL 312.063512 39.931458 \nL 315.342851 38.690899 \nL 318.62219 36.174803 \nL 321.901529 34.724544 \nL 325.180868 33.256831 \nL 328.460207 31.998795 \nL 331.739545 29.95446 \nL 335.018884 28.416839 \nL 338.298223 27.455841 \nL 341.577562 26.739449 \nL 344.856901 25.341621 \nL 348.13624 24.677661 \nL 351.415579 23.297286 \nL 354.694917 22.336288 \nL 357.974256 21.689781 \nL 361.253595 20.868575 \nL 364.532934 20.064822 \nL 367.812273 19.296 \n\" clip-path=\"url(#pb0a7d06124)\" style=\"fill: none; stroke: #1f77b4; stroke-width: 1.5; stroke-linecap: square\"/>\n   </g>\n   <g id=\"line2d_16\">\n    <path d=\"M 43.157727 257.759446 \nL 46.437066 258.073679 \nL 49.716405 258.387909 \nL 52.995744 258.545026 \nL 56.275083 258.702143 \nL 59.554421 259.17349 \nL 62.83376 260.116186 \nL 66.113099 260.116186 \nL 69.392438 261.058883 \nL 72.671777 260.901767 \nL 75.951116 260.74465 \nL 79.230455 260.901767 \nL 82.509793 261.216 \nL 85.789132 258.387909 \nL 89.068471 256.973866 \nL 92.34781 255.088472 \nL 95.627149 254.302892 \nL 98.906488 254.617125 \nL 102.185826 255.402705 \nL 105.465165 255.716938 \nL 108.744504 255.716938 \nL 112.023843 255.716938 \nL 115.303182 255.716938 \nL 118.582521 255.716938 \nL 121.86186 255.716938 \nL 125.141198 255.716938 \nL 128.420537 255.716938 \nL 131.699876 255.716938 \nL 134.979215 255.716938 \nL 138.258554 255.716938 \nL 141.537893 255.716938 \nL 144.817231 255.716938 \nL 148.09657 255.716938 \nL 151.375909 255.716938 \nL 154.655248 255.716938 \nL 157.934587 255.716938 \nL 161.213926 255.716938 \nL 164.493264 255.716938 \nL 167.772603 255.716938 \nL 171.051942 255.716938 \nL 174.331281 255.716938 \nL 177.61062 255.716938 \nL 180.889959 255.716938 \nL 184.169298 255.716938 \nL 187.448636 255.716938 \nL 190.727975 255.716938 \nL 194.007314 255.716938 \nL 197.286653 255.716938 \nL 200.565992 255.716938 \nL 203.845331 255.716938 \nL 207.124669 255.716938 \nL 210.404008 255.716938 \nL 213.683347 255.716938 \nL 216.962686 255.245588 \nL 220.242025 253.045964 \nL 223.521364 245.975742 \nL 226.800702 229.478557 \nL 230.080041 216.280807 \nL 233.35938 204.33999 \nL 236.638719 194.913027 \nL 239.918058 184.857598 \nL 243.197397 176.373341 \nL 246.476736 168.988879 \nL 249.756074 162.075771 \nL 253.035413 157.833642 \nL 256.314752 145.735712 \nL 259.594091 130.966801 \nL 262.87343 116.826357 \nL 266.152769 103.314379 \nL 269.432107 92.159142 \nL 272.711446 81.161019 \nL 275.990785 76.447537 \nL 279.270124 71.262703 \nL 282.549463 65.44939 \nL 285.828802 61.364387 \nL 289.10814 59.479 \nL 292.387479 53.979938 \nL 295.666818 52.094526 \nL 298.946157 47.695272 \nL 302.225496 45.338555 \nL 305.504835 43.296042 \nL 308.784174 41.56778 \nL 312.063512 39.996619 \nL 315.342851 38.425459 \nL 318.62219 36.540047 \nL 321.901529 36.540047 \nL 325.180868 34.654659 \nL 328.460207 33.083499 \nL 331.739545 31.826566 \nL 335.018884 31.355213 \nL 338.298223 30.09828 \nL 341.577562 30.255405 \nL 344.856901 28.212892 \nL 348.13624 27.270186 \nL 351.415579 25.384822 \nL 354.694917 23.342309 \nL 357.974256 22.713854 \nL 361.253595 22.085376 \nL 364.532934 21.771148 \nL 367.812273 21.771148 \n\" clip-path=\"url(#pb0a7d06124)\" style=\"fill: none; stroke: #ff7f0e; stroke-width: 1.5; stroke-linecap: square\"/>\n   </g>\n   <g id=\"line2d_17\">\n    <path d=\"M 207.124669 258.545026 \nL 207.124669 38.582561 \n\" clip-path=\"url(#pb0a7d06124)\" style=\"fill: none; stroke-dasharray: 5.55,2.4; stroke-dashoffset: 0; stroke: #000000; stroke-width: 1.5\"/>\n   </g>\n   <g id=\"patch_3\">\n    <path d=\"M 26.925 273.312 \nL 26.925 7.2 \n\" style=\"fill: none; stroke: #000000; stroke-width: 0.8; stroke-linejoin: miter; stroke-linecap: square\"/>\n   </g>\n   <g id=\"patch_4\">\n    <path d=\"M 384.045 273.312 \nL 384.045 7.2 \n\" style=\"fill: none; stroke: #000000; stroke-width: 0.8; stroke-linejoin: miter; stroke-linecap: square\"/>\n   </g>\n   <g id=\"patch_5\">\n    <path d=\"M 26.925 273.312 \nL 384.045 273.312 \n\" style=\"fill: none; stroke: #000000; stroke-width: 0.8; stroke-linejoin: miter; stroke-linecap: square\"/>\n   </g>\n   <g id=\"patch_6\">\n    <path d=\"M 26.925 7.2 \nL 384.045 7.2 \n\" style=\"fill: none; stroke: #000000; stroke-width: 0.8; stroke-linejoin: miter; stroke-linecap: square\"/>\n   </g>\n   <g id=\"legend_1\">\n    <g id=\"patch_7\">\n     <path d=\"M 33.925 59.234375 \nL 172.576563 59.234375 \nQ 174.576563 59.234375 174.576563 57.234375 \nL 174.576563 14.2 \nQ 174.576563 12.2 172.576563 12.2 \nL 33.925 12.2 \nQ 31.925 12.2 31.925 14.2 \nL 31.925 57.234375 \nQ 31.925 59.234375 33.925 59.234375 \nz\n\" style=\"fill: #ffffff; opacity: 0.8; stroke: #cccccc; stroke-linejoin: miter\"/>\n    </g>\n    <g id=\"line2d_18\">\n     <path d=\"M 35.925 20.298437 \nL 45.925 20.298437 \nL 55.925 20.298437 \n\" style=\"fill: none; stroke: #1f77b4; stroke-width: 1.5; stroke-linecap: square\"/>\n    </g>\n    <g id=\"text_15\">\n     <!-- Train -->\n     <g transform=\"translate(63.925 23.798437) scale(0.1 -0.1)\">\n      <defs>\n       <path id=\"DejaVuSans-54\" d=\"M -19 4666 \nL 3928 4666 \nL 3928 4134 \nL 2272 4134 \nL 2272 0 \nL 1638 0 \nL 1638 4134 \nL -19 4134 \nL -19 4666 \nz\n\" transform=\"scale(0.015625)\"/>\n       <path id=\"DejaVuSans-72\" d=\"M 2631 2963 \nQ 2534 3019 2420 3045 \nQ 2306 3072 2169 3072 \nQ 1681 3072 1420 2755 \nQ 1159 2438 1159 1844 \nL 1159 0 \nL 581 0 \nL 581 3500 \nL 1159 3500 \nL 1159 2956 \nQ 1341 3275 1631 3429 \nQ 1922 3584 2338 3584 \nQ 2397 3584 2469 3576 \nQ 2541 3569 2628 3553 \nL 2631 2963 \nz\n\" transform=\"scale(0.015625)\"/>\n       <path id=\"DejaVuSans-61\" d=\"M 2194 1759 \nQ 1497 1759 1228 1600 \nQ 959 1441 959 1056 \nQ 959 750 1161 570 \nQ 1363 391 1709 391 \nQ 2188 391 2477 730 \nQ 2766 1069 2766 1631 \nL 2766 1759 \nL 2194 1759 \nz\nM 3341 1997 \nL 3341 0 \nL 2766 0 \nL 2766 531 \nQ 2569 213 2275 61 \nQ 1981 -91 1556 -91 \nQ 1019 -91 701 211 \nQ 384 513 384 1019 \nQ 384 1609 779 1909 \nQ 1175 2209 1959 2209 \nL 2766 2209 \nL 2766 2266 \nQ 2766 2663 2505 2880 \nQ 2244 3097 1772 3097 \nQ 1472 3097 1187 3025 \nQ 903 2953 641 2809 \nL 641 3341 \nQ 956 3463 1253 3523 \nQ 1550 3584 1831 3584 \nQ 2591 3584 2966 3190 \nQ 3341 2797 3341 1997 \nz\n\" transform=\"scale(0.015625)\"/>\n       <path id=\"DejaVuSans-69\" d=\"M 603 3500 \nL 1178 3500 \nL 1178 0 \nL 603 0 \nL 603 3500 \nz\nM 603 4863 \nL 1178 4863 \nL 1178 4134 \nL 603 4134 \nL 603 4863 \nz\n\" transform=\"scale(0.015625)\"/>\n       <path id=\"DejaVuSans-6e\" d=\"M 3513 2113 \nL 3513 0 \nL 2938 0 \nL 2938 2094 \nQ 2938 2591 2744 2837 \nQ 2550 3084 2163 3084 \nQ 1697 3084 1428 2787 \nQ 1159 2491 1159 1978 \nL 1159 0 \nL 581 0 \nL 581 3500 \nL 1159 3500 \nL 1159 2956 \nQ 1366 3272 1645 3428 \nQ 1925 3584 2291 3584 \nQ 2894 3584 3203 3211 \nQ 3513 2838 3513 2113 \nz\n\" transform=\"scale(0.015625)\"/>\n      </defs>\n      <use xlink:href=\"#DejaVuSans-54\"/>\n      <use xlink:href=\"#DejaVuSans-72\" x=\"46.333984\"/>\n      <use xlink:href=\"#DejaVuSans-61\" x=\"87.447266\"/>\n      <use xlink:href=\"#DejaVuSans-69\" x=\"148.726562\"/>\n      <use xlink:href=\"#DejaVuSans-6e\" x=\"176.509766\"/>\n     </g>\n    </g>\n    <g id=\"line2d_19\">\n     <path d=\"M 35.925 34.976562 \nL 45.925 34.976562 \nL 55.925 34.976562 \n\" style=\"fill: none; stroke: #ff7f0e; stroke-width: 1.5; stroke-linecap: square\"/>\n    </g>\n    <g id=\"text_16\">\n     <!-- Test -->\n     <g transform=\"translate(63.925 38.476562) scale(0.1 -0.1)\">\n      <defs>\n       <path id=\"DejaVuSans-65\" d=\"M 3597 1894 \nL 3597 1613 \nL 953 1613 \nQ 991 1019 1311 708 \nQ 1631 397 2203 397 \nQ 2534 397 2845 478 \nQ 3156 559 3463 722 \nL 3463 178 \nQ 3153 47 2828 -22 \nQ 2503 -91 2169 -91 \nQ 1331 -91 842 396 \nQ 353 884 353 1716 \nQ 353 2575 817 3079 \nQ 1281 3584 2069 3584 \nQ 2775 3584 3186 3129 \nQ 3597 2675 3597 1894 \nz\nM 3022 2063 \nQ 3016 2534 2758 2815 \nQ 2500 3097 2075 3097 \nQ 1594 3097 1305 2825 \nQ 1016 2553 972 2059 \nL 3022 2063 \nz\n\" transform=\"scale(0.015625)\"/>\n       <path id=\"DejaVuSans-73\" d=\"M 2834 3397 \nL 2834 2853 \nQ 2591 2978 2328 3040 \nQ 2066 3103 1784 3103 \nQ 1356 3103 1142 2972 \nQ 928 2841 928 2578 \nQ 928 2378 1081 2264 \nQ 1234 2150 1697 2047 \nL 1894 2003 \nQ 2506 1872 2764 1633 \nQ 3022 1394 3022 966 \nQ 3022 478 2636 193 \nQ 2250 -91 1575 -91 \nQ 1294 -91 989 -36 \nQ 684 19 347 128 \nL 347 722 \nQ 666 556 975 473 \nQ 1284 391 1588 391 \nQ 1994 391 2212 530 \nQ 2431 669 2431 922 \nQ 2431 1156 2273 1281 \nQ 2116 1406 1581 1522 \nL 1381 1569 \nQ 847 1681 609 1914 \nQ 372 2147 372 2553 \nQ 372 3047 722 3315 \nQ 1072 3584 1716 3584 \nQ 2034 3584 2315 3537 \nQ 2597 3491 2834 3397 \nz\n\" transform=\"scale(0.015625)\"/>\n       <path id=\"DejaVuSans-74\" d=\"M 1172 4494 \nL 1172 3500 \nL 2356 3500 \nL 2356 3053 \nL 1172 3053 \nL 1172 1153 \nQ 1172 725 1289 603 \nQ 1406 481 1766 481 \nL 2356 481 \nL 2356 0 \nL 1766 0 \nQ 1100 0 847 248 \nQ 594 497 594 1153 \nL 594 3053 \nL 172 3053 \nL 172 3500 \nL 594 3500 \nL 594 4494 \nL 1172 4494 \nz\n\" transform=\"scale(0.015625)\"/>\n      </defs>\n      <use xlink:href=\"#DejaVuSans-54\"/>\n      <use xlink:href=\"#DejaVuSans-65\" x=\"44.083984\"/>\n      <use xlink:href=\"#DejaVuSans-73\" x=\"105.607422\"/>\n      <use xlink:href=\"#DejaVuSans-74\" x=\"157.707031\"/>\n     </g>\n    </g>\n    <g id=\"line2d_20\">\n     <path d=\"M 35.925 49.654687 \nL 45.925 49.654687 \nL 55.925 49.654687 \n\" style=\"fill: none; stroke-dasharray: 5.55,2.4; stroke-dashoffset: 0; stroke: #000000; stroke-width: 1.5\"/>\n    </g>\n    <g id=\"text_17\">\n     <!-- Learning switched on -->\n     <g transform=\"translate(63.925 53.154687) scale(0.1 -0.1)\">\n      <defs>\n       <path id=\"DejaVuSans-4c\" d=\"M 628 4666 \nL 1259 4666 \nL 1259 531 \nL 3531 531 \nL 3531 0 \nL 628 0 \nL 628 4666 \nz\n\" transform=\"scale(0.015625)\"/>\n       <path id=\"DejaVuSans-67\" d=\"M 2906 1791 \nQ 2906 2416 2648 2759 \nQ 2391 3103 1925 3103 \nQ 1463 3103 1205 2759 \nQ 947 2416 947 1791 \nQ 947 1169 1205 825 \nQ 1463 481 1925 481 \nQ 2391 481 2648 825 \nQ 2906 1169 2906 1791 \nz\nM 3481 434 \nQ 3481 -459 3084 -895 \nQ 2688 -1331 1869 -1331 \nQ 1566 -1331 1297 -1286 \nQ 1028 -1241 775 -1147 \nL 775 -588 \nQ 1028 -725 1275 -790 \nQ 1522 -856 1778 -856 \nQ 2344 -856 2625 -561 \nQ 2906 -266 2906 331 \nL 2906 616 \nQ 2728 306 2450 153 \nQ 2172 0 1784 0 \nQ 1141 0 747 490 \nQ 353 981 353 1791 \nQ 353 2603 747 3093 \nQ 1141 3584 1784 3584 \nQ 2172 3584 2450 3431 \nQ 2728 3278 2906 2969 \nL 2906 3500 \nL 3481 3500 \nL 3481 434 \nz\n\" transform=\"scale(0.015625)\"/>\n       <path id=\"DejaVuSans-20\" transform=\"scale(0.015625)\"/>\n       <path id=\"DejaVuSans-77\" d=\"M 269 3500 \nL 844 3500 \nL 1563 769 \nL 2278 3500 \nL 2956 3500 \nL 3675 769 \nL 4391 3500 \nL 4966 3500 \nL 4050 0 \nL 3372 0 \nL 2619 2869 \nL 1863 0 \nL 1184 0 \nL 269 3500 \nz\n\" transform=\"scale(0.015625)\"/>\n       <path id=\"DejaVuSans-63\" d=\"M 3122 3366 \nL 3122 2828 \nQ 2878 2963 2633 3030 \nQ 2388 3097 2138 3097 \nQ 1578 3097 1268 2742 \nQ 959 2388 959 1747 \nQ 959 1106 1268 751 \nQ 1578 397 2138 397 \nQ 2388 397 2633 464 \nQ 2878 531 3122 666 \nL 3122 134 \nQ 2881 22 2623 -34 \nQ 2366 -91 2075 -91 \nQ 1284 -91 818 406 \nQ 353 903 353 1747 \nQ 353 2603 823 3093 \nQ 1294 3584 2113 3584 \nQ 2378 3584 2631 3529 \nQ 2884 3475 3122 3366 \nz\n\" transform=\"scale(0.015625)\"/>\n       <path id=\"DejaVuSans-68\" d=\"M 3513 2113 \nL 3513 0 \nL 2938 0 \nL 2938 2094 \nQ 2938 2591 2744 2837 \nQ 2550 3084 2163 3084 \nQ 1697 3084 1428 2787 \nQ 1159 2491 1159 1978 \nL 1159 0 \nL 581 0 \nL 581 4863 \nL 1159 4863 \nL 1159 2956 \nQ 1366 3272 1645 3428 \nQ 1925 3584 2291 3584 \nQ 2894 3584 3203 3211 \nQ 3513 2838 3513 2113 \nz\n\" transform=\"scale(0.015625)\"/>\n       <path id=\"DejaVuSans-64\" d=\"M 2906 2969 \nL 2906 4863 \nL 3481 4863 \nL 3481 0 \nL 2906 0 \nL 2906 525 \nQ 2725 213 2448 61 \nQ 2172 -91 1784 -91 \nQ 1150 -91 751 415 \nQ 353 922 353 1747 \nQ 353 2572 751 3078 \nQ 1150 3584 1784 3584 \nQ 2172 3584 2448 3432 \nQ 2725 3281 2906 2969 \nz\nM 947 1747 \nQ 947 1113 1208 752 \nQ 1469 391 1925 391 \nQ 2381 391 2643 752 \nQ 2906 1113 2906 1747 \nQ 2906 2381 2643 2742 \nQ 2381 3103 1925 3103 \nQ 1469 3103 1208 2742 \nQ 947 2381 947 1747 \nz\n\" transform=\"scale(0.015625)\"/>\n       <path id=\"DejaVuSans-6f\" d=\"M 1959 3097 \nQ 1497 3097 1228 2736 \nQ 959 2375 959 1747 \nQ 959 1119 1226 758 \nQ 1494 397 1959 397 \nQ 2419 397 2687 759 \nQ 2956 1122 2956 1747 \nQ 2956 2369 2687 2733 \nQ 2419 3097 1959 3097 \nz\nM 1959 3584 \nQ 2709 3584 3137 3096 \nQ 3566 2609 3566 1747 \nQ 3566 888 3137 398 \nQ 2709 -91 1959 -91 \nQ 1206 -91 779 398 \nQ 353 888 353 1747 \nQ 353 2609 779 3096 \nQ 1206 3584 1959 3584 \nz\n\" transform=\"scale(0.015625)\"/>\n      </defs>\n      <use xlink:href=\"#DejaVuSans-4c\"/>\n      <use xlink:href=\"#DejaVuSans-65\" x=\"53.962891\"/>\n      <use xlink:href=\"#DejaVuSans-61\" x=\"115.486328\"/>\n      <use xlink:href=\"#DejaVuSans-72\" x=\"176.765625\"/>\n      <use xlink:href=\"#DejaVuSans-6e\" x=\"216.128906\"/>\n      <use xlink:href=\"#DejaVuSans-69\" x=\"279.507812\"/>\n      <use xlink:href=\"#DejaVuSans-6e\" x=\"307.291016\"/>\n      <use xlink:href=\"#DejaVuSans-67\" x=\"370.669922\"/>\n      <use xlink:href=\"#DejaVuSans-20\" x=\"434.146484\"/>\n      <use xlink:href=\"#DejaVuSans-73\" x=\"465.933594\"/>\n      <use xlink:href=\"#DejaVuSans-77\" x=\"518.033203\"/>\n      <use xlink:href=\"#DejaVuSans-69\" x=\"599.820312\"/>\n      <use xlink:href=\"#DejaVuSans-74\" x=\"627.603516\"/>\n      <use xlink:href=\"#DejaVuSans-63\" x=\"666.8125\"/>\n      <use xlink:href=\"#DejaVuSans-68\" x=\"721.792969\"/>\n      <use xlink:href=\"#DejaVuSans-65\" x=\"785.171875\"/>\n      <use xlink:href=\"#DejaVuSans-64\" x=\"846.695312\"/>\n      <use xlink:href=\"#DejaVuSans-20\" x=\"910.171875\"/>\n      <use xlink:href=\"#DejaVuSans-6f\" x=\"941.958984\"/>\n      <use xlink:href=\"#DejaVuSans-6e\" x=\"1003.140625\"/>\n     </g>\n    </g>\n   </g>\n  </g>\n </g>\n <defs>\n  <clipPath id=\"pb0a7d06124\">\n   <rect x=\"26.925\" y=\"7.2\" width=\"357.12\" height=\"266.112\"/>\n  </clipPath>\n </defs>\n</svg>\n"
          },
          "metadata": {}
        }
      ]
    },
    {
      "cell_type": "markdown",
      "source": [
        "**Interpretation:**\n",
        "\n",
        "---\n",
        "The model is simply not learning at all until we switch the gradients backon."
      ],
      "metadata": {
        "id": "ZSz8Ngf6cOHj"
      }
    }
  ]
}