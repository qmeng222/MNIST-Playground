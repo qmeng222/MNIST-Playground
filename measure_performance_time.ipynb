{
  "nbformat": 4,
  "nbformat_minor": 0,
  "metadata": {
    "colab": {
      "provenance": [],
      "authorship_tag": "ABX9TyO5jdFiajPTW2xJCtDDadeW",
      "include_colab_link": true
    },
    "kernelspec": {
      "name": "python3",
      "display_name": "Python 3"
    },
    "language_info": {
      "name": "python"
    }
  },
  "cells": [
    {
      "cell_type": "markdown",
      "metadata": {
        "id": "view-in-github",
        "colab_type": "text"
      },
      "source": [
        "<a href=\"https://colab.research.google.com/github/qmeng222/MNIST-Playground/blob/main/measure_performance_time.ipynb\" target=\"_parent\"><img src=\"https://colab.research.google.com/assets/colab-badge.svg\" alt=\"Open In Colab\"/></a>"
      ]
    },
    {
      "cell_type": "markdown",
      "source": [
        "Task:\n",
        "Compute performance time\n",
        "1.   Exact computation: use system clock, accurate to sub-millisecond.\n",
        "2.   Rough computation: use timer at the bottom of colab screen, accurate to seconds."
      ],
      "metadata": {
        "id": "vBPsdKl0vTmO"
      }
    },
    {
      "cell_type": "code",
      "source": [
        "import numpy as np\n",
        "import torch\n",
        "import torch.nn as nn\n",
        "import torch.nn.functional as F\n",
        "from torch.utils.data import DataLoader\n",
        "from sklearn.model_selection import train_test_split\n",
        "import time\n",
        "\n",
        "import matplotlib.pyplot as plt\n",
        "import matplotlib_inline\n",
        "matplotlib_inline.backend_inline.set_matplotlib_formats(\"svg\")"
      ],
      "metadata": {
        "id": "WRlkAS896epU"
      },
      "execution_count": 7,
      "outputs": []
    },
    {
      "cell_type": "code",
      "source": [
        "data = np.loadtxt(open('sample_data/mnist_train_small.csv','rb'),delimiter=',')\n",
        "\n",
        "# extract labels, then remove labels from data:\n",
        "labels = data[:,0]\n",
        "data   = data[:,1:]\n",
        "\n",
        "# normalize all data (train & test) to [0 1]:\n",
        "dataNorm = data / np.max(data)"
      ],
      "metadata": {
        "id": "2klX6Gn264uk"
      },
      "execution_count": 8,
      "outputs": []
    },
    {
      "cell_type": "code",
      "source": [
        "# Step 1: np array -> torch tensor\n",
        "dataT   = torch.tensor( dataNorm ).float()\n",
        "labelsT = torch.tensor( labels ).long()\n",
        "\n",
        "# Step 2: use scikitlearn to split the data\n",
        "train_data,test_data, train_labels,test_labels = train_test_split(dataT, labelsT, test_size=.1)\n",
        "\n",
        "# Step 3: torch tensor -> torch dataset obj\n",
        "train_data = torch.utils.data.TensorDataset(train_data,train_labels)\n",
        "test_data  = torch.utils.data.TensorDataset(test_data,test_labels)\n",
        "\n",
        "# Step 4: torch dataset obj -> torch dataloader obj\n",
        "batchsize  = 32\n",
        "train_loader = DataLoader(train_data,batch_size=batchsize,shuffle=True,drop_last=True)\n",
        "test_loader  = DataLoader(test_data,batch_size=test_data.tensors[0].shape[0])"
      ],
      "metadata": {
        "id": "YEcpmZoW7nt0"
      },
      "execution_count": 9,
      "outputs": []
    },
    {
      "cell_type": "code",
      "source": [
        "def createTheMNISTNet():\n",
        "\n",
        "  # model class:\n",
        "  class mnistNet(nn.Module):\n",
        "    def __init__(self):\n",
        "      super().__init__()\n",
        "\n",
        "      ### input layer\n",
        "      self.input = nn.Linear(784,64)\n",
        "\n",
        "      ### hidden layer\n",
        "      self.fc1 = nn.Linear(64,32)\n",
        "      self.fc2 = nn.Linear(32,32)\n",
        "\n",
        "      ### output layer\n",
        "      self.output = nn.Linear(32,10)\n",
        "\n",
        "    # forward pass\n",
        "    def forward(self,x):\n",
        "      x = F.relu( self.input(x) )\n",
        "      x = F.relu( self.fc1(x) )\n",
        "      x = F.relu( self.fc2(x) )\n",
        "      return self.output(x)\n",
        "\n",
        "  # create the model instance\n",
        "  net = mnistNet()\n",
        "\n",
        "  # loss function\n",
        "  lossfun = nn.CrossEntropyLoss()\n",
        "\n",
        "  # optimizer\n",
        "  optimizer = torch.optim.Adam(net.parameters(),lr=.01)\n",
        "\n",
        "  return net,lossfun,optimizer"
      ],
      "metadata": {
        "id": "jnV7Zeaq73jo"
      },
      "execution_count": 10,
      "outputs": []
    },
    {
      "cell_type": "code",
      "source": [
        "def function2trainTheModel():\n",
        "\n",
        "  # start the timer!\n",
        "  timerInFunction = time.process_time()\n",
        "\n",
        "  numepochs = 10\n",
        "\n",
        "  # create a new model\n",
        "  net,lossfun,optimizer = createTheMNISTNet()\n",
        "\n",
        "  # initialize losses\n",
        "  losses    = torch.zeros(numepochs)\n",
        "  trainAcc  = []\n",
        "  testAcc   = []\n",
        "\n",
        "  # loop over epochs\n",
        "  for epochi in range(numepochs):\n",
        "    batchAcc  = []\n",
        "    batchLoss = []\n",
        "\n",
        "    # loop over batches:\n",
        "    for X,y in train_loader:\n",
        "      # forward pass and loss\n",
        "      yHat = net(X)\n",
        "      loss = lossfun(yHat,y)\n",
        "\n",
        "      # backprop\n",
        "      optimizer.zero_grad()\n",
        "      loss.backward()\n",
        "      optimizer.step()\n",
        "\n",
        "      # loss from this batch\n",
        "      batchLoss.append(loss.item())\n",
        "\n",
        "      # compute accuracy\n",
        "      matches = torch.argmax(yHat,axis=1) == y     # booleans (false/true)\n",
        "      matchesNumeric = matches.float()             # convert to numbers (0/1)\n",
        "      accuracyPct = 100*torch.mean(matchesNumeric) # average and x100\n",
        "      batchAcc.append( accuracyPct )               # add to list of accuracies\n",
        "    # end of batch loop...\n",
        "\n",
        "    # now that we've trained through the batches, get their average training accuracy\n",
        "    trainAcc.append( np.mean(batchAcc) )\n",
        "\n",
        "    # and get average losses across the batches\n",
        "    losses[epochi] = np.mean(batchLoss)\n",
        "\n",
        "    # test accuracy\n",
        "    X,y = next(iter(test_loader)) # extract X,y from test dataloader\n",
        "    with torch.no_grad(): # deactivates autograd\n",
        "      yHat = net(X)\n",
        "\n",
        "    # compare the following really long line of code to the training accuracy lines\n",
        "    testAcc.append( 100*torch.mean((torch.argmax(yHat,axis=1)==y).float()) )\n",
        "\n",
        "    # computate complete time at the end of each epoch:\n",
        "    comptime = time.process_time() - timerInFunction\n",
        "    print(f'Epoch {epochi+1}/{numepochs}, elapsed time: {comptime:.2f} sec, test accuracy {testAcc[-1]:.0f}%')\n",
        "\n",
        "  # end epochs\n",
        "\n",
        "  # function output\n",
        "  return trainAcc,testAcc,losses,net"
      ],
      "metadata": {
        "id": "yH-GlaYk8BCz"
      },
      "execution_count": 11,
      "outputs": []
    },
    {
      "cell_type": "code",
      "source": [
        "trainAcc,testAcc,losses,net = function2trainTheModel()"
      ],
      "metadata": {
        "colab": {
          "base_uri": "https://localhost:8080/"
        },
        "id": "vy7vlajx8aCD",
        "outputId": "54017387-894e-41b1-ea1d-0f48ab0559f0"
      },
      "execution_count": 12,
      "outputs": [
        {
          "output_type": "stream",
          "name": "stdout",
          "text": [
            "Epoch 1/10, elapsed time: 1.31 sec, test accuracy 93%\n",
            "Epoch 2/10, elapsed time: 3.24 sec, test accuracy 91%\n",
            "Epoch 3/10, elapsed time: 4.63 sec, test accuracy 94%\n",
            "Epoch 4/10, elapsed time: 6.02 sec, test accuracy 93%\n",
            "Epoch 5/10, elapsed time: 7.40 sec, test accuracy 94%\n",
            "Epoch 6/10, elapsed time: 8.75 sec, test accuracy 94%\n",
            "Epoch 7/10, elapsed time: 10.16 sec, test accuracy 95%\n",
            "Epoch 8/10, elapsed time: 11.57 sec, test accuracy 94%\n",
            "Epoch 9/10, elapsed time: 12.94 sec, test accuracy 95%\n",
            "Epoch 10/10, elapsed time: 14.78 sec, test accuracy 96%\n"
          ]
        }
      ]
    },
    {
      "cell_type": "markdown",
      "source": [
        "👆 Rough performance time from colab is 15s, roughly matching the elapsed time for the last epoch, as printed above."
      ],
      "metadata": {
        "id": "gkHmtpS3AleP"
      }
    },
    {
      "cell_type": "code",
      "source": [
        "# now run a second timer over repeated iterations\n",
        "\n",
        "# start another timer with a different variable name:\n",
        "timerOutsideFunction = time.process_time()\n",
        "\n",
        "for i in range(10):\n",
        "  function2trainTheModel()\n",
        "\n",
        "TotalExperimentTime = time.process_time() - timerOutsideFunction\n",
        "print(f'\\n\\n\\nTotal elapsed experiment time: {TotalExperimentTime/60:.2f} minutes')"
      ],
      "metadata": {
        "colab": {
          "base_uri": "https://localhost:8080/"
        },
        "id": "zZ5bufQs8h94",
        "outputId": "97412dff-2311-4626-c7e1-b9cc91dd3d48"
      },
      "execution_count": 13,
      "outputs": [
        {
          "output_type": "stream",
          "name": "stdout",
          "text": [
            "Epoch 1/10, elapsed time: 1.65 sec, test accuracy 92%\n",
            "Epoch 2/10, elapsed time: 2.92 sec, test accuracy 93%\n",
            "Epoch 3/10, elapsed time: 4.20 sec, test accuracy 93%\n",
            "Epoch 4/10, elapsed time: 5.48 sec, test accuracy 94%\n",
            "Epoch 5/10, elapsed time: 6.80 sec, test accuracy 95%\n",
            "Epoch 6/10, elapsed time: 8.10 sec, test accuracy 95%\n",
            "Epoch 7/10, elapsed time: 9.37 sec, test accuracy 96%\n",
            "Epoch 8/10, elapsed time: 10.77 sec, test accuracy 95%\n",
            "Epoch 9/10, elapsed time: 12.55 sec, test accuracy 95%\n",
            "Epoch 10/10, elapsed time: 14.17 sec, test accuracy 95%\n",
            "Epoch 1/10, elapsed time: 1.13 sec, test accuracy 93%\n",
            "Epoch 2/10, elapsed time: 2.38 sec, test accuracy 92%\n",
            "Epoch 3/10, elapsed time: 3.78 sec, test accuracy 94%\n",
            "Epoch 4/10, elapsed time: 5.13 sec, test accuracy 95%\n",
            "Epoch 5/10, elapsed time: 6.43 sec, test accuracy 95%\n",
            "Epoch 6/10, elapsed time: 7.76 sec, test accuracy 95%\n",
            "Epoch 7/10, elapsed time: 9.21 sec, test accuracy 95%\n",
            "Epoch 8/10, elapsed time: 11.12 sec, test accuracy 95%\n",
            "Epoch 9/10, elapsed time: 12.67 sec, test accuracy 96%\n",
            "Epoch 10/10, elapsed time: 14.00 sec, test accuracy 95%\n",
            "Epoch 1/10, elapsed time: 1.12 sec, test accuracy 93%\n",
            "Epoch 2/10, elapsed time: 2.36 sec, test accuracy 95%\n",
            "Epoch 3/10, elapsed time: 3.78 sec, test accuracy 93%\n",
            "Epoch 4/10, elapsed time: 5.20 sec, test accuracy 94%\n",
            "Epoch 5/10, elapsed time: 6.51 sec, test accuracy 94%\n",
            "Epoch 6/10, elapsed time: 7.99 sec, test accuracy 94%\n",
            "Epoch 7/10, elapsed time: 9.81 sec, test accuracy 94%\n",
            "Epoch 8/10, elapsed time: 11.11 sec, test accuracy 96%\n",
            "Epoch 9/10, elapsed time: 12.43 sec, test accuracy 96%\n",
            "Epoch 10/10, elapsed time: 13.99 sec, test accuracy 96%\n",
            "Epoch 1/10, elapsed time: 1.13 sec, test accuracy 91%\n",
            "Epoch 2/10, elapsed time: 2.40 sec, test accuracy 92%\n",
            "Epoch 3/10, elapsed time: 3.71 sec, test accuracy 92%\n",
            "Epoch 4/10, elapsed time: 5.03 sec, test accuracy 94%\n",
            "Epoch 5/10, elapsed time: 6.73 sec, test accuracy 95%\n",
            "Epoch 6/10, elapsed time: 8.48 sec, test accuracy 94%\n",
            "Epoch 7/10, elapsed time: 9.87 sec, test accuracy 95%\n",
            "Epoch 8/10, elapsed time: 11.16 sec, test accuracy 95%\n",
            "Epoch 9/10, elapsed time: 12.55 sec, test accuracy 95%\n",
            "Epoch 10/10, elapsed time: 13.97 sec, test accuracy 95%\n",
            "Epoch 1/10, elapsed time: 1.13 sec, test accuracy 92%\n",
            "Epoch 2/10, elapsed time: 2.35 sec, test accuracy 94%\n",
            "Epoch 3/10, elapsed time: 3.88 sec, test accuracy 94%\n",
            "Epoch 4/10, elapsed time: 5.84 sec, test accuracy 94%\n",
            "Epoch 5/10, elapsed time: 7.67 sec, test accuracy 93%\n",
            "Epoch 6/10, elapsed time: 8.98 sec, test accuracy 94%\n",
            "Epoch 7/10, elapsed time: 10.31 sec, test accuracy 95%\n",
            "Epoch 8/10, elapsed time: 11.64 sec, test accuracy 95%\n",
            "Epoch 9/10, elapsed time: 12.95 sec, test accuracy 95%\n",
            "Epoch 10/10, elapsed time: 14.29 sec, test accuracy 95%\n",
            "Epoch 1/10, elapsed time: 1.13 sec, test accuracy 91%\n",
            "Epoch 2/10, elapsed time: 2.39 sec, test accuracy 93%\n",
            "Epoch 3/10, elapsed time: 3.93 sec, test accuracy 94%\n",
            "Epoch 4/10, elapsed time: 5.77 sec, test accuracy 94%\n",
            "Epoch 5/10, elapsed time: 7.20 sec, test accuracy 94%\n",
            "Epoch 6/10, elapsed time: 8.52 sec, test accuracy 94%\n",
            "Epoch 7/10, elapsed time: 9.93 sec, test accuracy 95%\n",
            "Epoch 8/10, elapsed time: 11.33 sec, test accuracy 95%\n",
            "Epoch 9/10, elapsed time: 12.70 sec, test accuracy 93%\n",
            "Epoch 10/10, elapsed time: 14.03 sec, test accuracy 95%\n",
            "Epoch 1/10, elapsed time: 1.18 sec, test accuracy 92%\n",
            "Epoch 2/10, elapsed time: 2.87 sec, test accuracy 93%\n",
            "Epoch 3/10, elapsed time: 4.56 sec, test accuracy 94%\n",
            "Epoch 4/10, elapsed time: 5.92 sec, test accuracy 94%\n",
            "Epoch 5/10, elapsed time: 7.32 sec, test accuracy 94%\n",
            "Epoch 6/10, elapsed time: 8.73 sec, test accuracy 94%\n",
            "Epoch 7/10, elapsed time: 10.09 sec, test accuracy 94%\n",
            "Epoch 8/10, elapsed time: 11.41 sec, test accuracy 95%\n",
            "Epoch 9/10, elapsed time: 12.73 sec, test accuracy 95%\n",
            "Epoch 10/10, elapsed time: 14.26 sec, test accuracy 95%\n",
            "Epoch 1/10, elapsed time: 1.77 sec, test accuracy 92%\n",
            "Epoch 2/10, elapsed time: 3.21 sec, test accuracy 92%\n",
            "Epoch 3/10, elapsed time: 4.55 sec, test accuracy 94%\n",
            "Epoch 4/10, elapsed time: 5.90 sec, test accuracy 93%\n",
            "Epoch 5/10, elapsed time: 7.24 sec, test accuracy 94%\n",
            "Epoch 6/10, elapsed time: 8.61 sec, test accuracy 95%\n",
            "Epoch 7/10, elapsed time: 9.97 sec, test accuracy 94%\n",
            "Epoch 8/10, elapsed time: 11.36 sec, test accuracy 95%\n",
            "Epoch 9/10, elapsed time: 12.96 sec, test accuracy 95%\n",
            "Epoch 10/10, elapsed time: 14.80 sec, test accuracy 96%\n",
            "Epoch 1/10, elapsed time: 1.12 sec, test accuracy 90%\n",
            "Epoch 2/10, elapsed time: 2.37 sec, test accuracy 92%\n",
            "Epoch 3/10, elapsed time: 3.71 sec, test accuracy 92%\n",
            "Epoch 4/10, elapsed time: 5.03 sec, test accuracy 94%\n",
            "Epoch 5/10, elapsed time: 6.35 sec, test accuracy 95%\n",
            "Epoch 6/10, elapsed time: 7.68 sec, test accuracy 95%\n",
            "Epoch 7/10, elapsed time: 9.13 sec, test accuracy 94%\n",
            "Epoch 8/10, elapsed time: 10.93 sec, test accuracy 95%\n",
            "Epoch 9/10, elapsed time: 12.77 sec, test accuracy 95%\n",
            "Epoch 10/10, elapsed time: 14.10 sec, test accuracy 94%\n",
            "Epoch 1/10, elapsed time: 1.13 sec, test accuracy 91%\n",
            "Epoch 2/10, elapsed time: 2.44 sec, test accuracy 94%\n",
            "Epoch 3/10, elapsed time: 3.84 sec, test accuracy 93%\n",
            "Epoch 4/10, elapsed time: 5.19 sec, test accuracy 94%\n",
            "Epoch 5/10, elapsed time: 6.55 sec, test accuracy 93%\n",
            "Epoch 6/10, elapsed time: 7.86 sec, test accuracy 95%\n",
            "Epoch 7/10, elapsed time: 9.70 sec, test accuracy 94%\n",
            "Epoch 8/10, elapsed time: 11.29 sec, test accuracy 94%\n",
            "Epoch 9/10, elapsed time: 12.75 sec, test accuracy 94%\n",
            "Epoch 10/10, elapsed time: 14.11 sec, test accuracy 96%\n",
            "\n",
            "\n",
            "\n",
            "Total elapsed experiment time: 2.36 minutes\n"
          ]
        }
      ]
    }
  ]
}